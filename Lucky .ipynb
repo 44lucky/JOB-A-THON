{
 "cells": [
  {
   "cell_type": "markdown",
   "metadata": {},
   "source": [
    "# Import libraries\n"
   ]
  },
  {
   "cell_type": "code",
   "execution_count": 1,
   "metadata": {},
   "outputs": [],
   "source": [
    "import numpy as np\n",
    "import pandas as pd\n",
    "import matplotlib.pyplot as plt\n"
   ]
  },
  {
   "cell_type": "code",
   "execution_count": 2,
   "metadata": {},
   "outputs": [],
   "source": [
    " test = pd.read_csv('C:/Users/Lucky Kulshrestha/Downloads/test_mSzZ8RL.csv') \n",
    "train = pd.read_csv('C:/Users/Lucky Kulshrestha/Downloads/train_s3TEQDk.csv')"
   ]
  },
  {
   "cell_type": "code",
   "execution_count": 3,
   "metadata": {},
   "outputs": [
    {
     "data": {
      "text/html": [
       "<div>\n",
       "<style scoped>\n",
       "    .dataframe tbody tr th:only-of-type {\n",
       "        vertical-align: middle;\n",
       "    }\n",
       "\n",
       "    .dataframe tbody tr th {\n",
       "        vertical-align: top;\n",
       "    }\n",
       "\n",
       "    .dataframe thead th {\n",
       "        text-align: right;\n",
       "    }\n",
       "</style>\n",
       "<table border=\"1\" class=\"dataframe\">\n",
       "  <thead>\n",
       "    <tr style=\"text-align: right;\">\n",
       "      <th></th>\n",
       "      <th>Age</th>\n",
       "      <th>Vintage</th>\n",
       "      <th>Avg_Account_Balance</th>\n",
       "      <th>Is_Lead</th>\n",
       "    </tr>\n",
       "  </thead>\n",
       "  <tbody>\n",
       "    <tr>\n",
       "      <th>count</th>\n",
       "      <td>245725.000000</td>\n",
       "      <td>245725.000000</td>\n",
       "      <td>2.457250e+05</td>\n",
       "      <td>245725.000000</td>\n",
       "    </tr>\n",
       "    <tr>\n",
       "      <th>mean</th>\n",
       "      <td>43.856307</td>\n",
       "      <td>46.959141</td>\n",
       "      <td>1.128403e+06</td>\n",
       "      <td>0.237208</td>\n",
       "    </tr>\n",
       "    <tr>\n",
       "      <th>std</th>\n",
       "      <td>14.828672</td>\n",
       "      <td>32.353136</td>\n",
       "      <td>8.529364e+05</td>\n",
       "      <td>0.425372</td>\n",
       "    </tr>\n",
       "    <tr>\n",
       "      <th>min</th>\n",
       "      <td>23.000000</td>\n",
       "      <td>7.000000</td>\n",
       "      <td>2.079000e+04</td>\n",
       "      <td>0.000000</td>\n",
       "    </tr>\n",
       "    <tr>\n",
       "      <th>25%</th>\n",
       "      <td>30.000000</td>\n",
       "      <td>20.000000</td>\n",
       "      <td>6.043100e+05</td>\n",
       "      <td>0.000000</td>\n",
       "    </tr>\n",
       "    <tr>\n",
       "      <th>50%</th>\n",
       "      <td>43.000000</td>\n",
       "      <td>32.000000</td>\n",
       "      <td>8.946010e+05</td>\n",
       "      <td>0.000000</td>\n",
       "    </tr>\n",
       "    <tr>\n",
       "      <th>75%</th>\n",
       "      <td>54.000000</td>\n",
       "      <td>73.000000</td>\n",
       "      <td>1.366666e+06</td>\n",
       "      <td>0.000000</td>\n",
       "    </tr>\n",
       "    <tr>\n",
       "      <th>max</th>\n",
       "      <td>85.000000</td>\n",
       "      <td>135.000000</td>\n",
       "      <td>1.035201e+07</td>\n",
       "      <td>1.000000</td>\n",
       "    </tr>\n",
       "  </tbody>\n",
       "</table>\n",
       "</div>"
      ],
      "text/plain": [
       "                 Age        Vintage  Avg_Account_Balance        Is_Lead\n",
       "count  245725.000000  245725.000000         2.457250e+05  245725.000000\n",
       "mean       43.856307      46.959141         1.128403e+06       0.237208\n",
       "std        14.828672      32.353136         8.529364e+05       0.425372\n",
       "min        23.000000       7.000000         2.079000e+04       0.000000\n",
       "25%        30.000000      20.000000         6.043100e+05       0.000000\n",
       "50%        43.000000      32.000000         8.946010e+05       0.000000\n",
       "75%        54.000000      73.000000         1.366666e+06       0.000000\n",
       "max        85.000000     135.000000         1.035201e+07       1.000000"
      ]
     },
     "execution_count": 3,
     "metadata": {},
     "output_type": "execute_result"
    }
   ],
   "source": [
    "train.describe()"
   ]
  },
  {
   "cell_type": "code",
   "execution_count": 4,
   "metadata": {},
   "outputs": [
    {
     "data": {
      "text/html": [
       "<div>\n",
       "<style scoped>\n",
       "    .dataframe tbody tr th:only-of-type {\n",
       "        vertical-align: middle;\n",
       "    }\n",
       "\n",
       "    .dataframe tbody tr th {\n",
       "        vertical-align: top;\n",
       "    }\n",
       "\n",
       "    .dataframe thead th {\n",
       "        text-align: right;\n",
       "    }\n",
       "</style>\n",
       "<table border=\"1\" class=\"dataframe\">\n",
       "  <thead>\n",
       "    <tr style=\"text-align: right;\">\n",
       "      <th></th>\n",
       "      <th>Age</th>\n",
       "      <th>Vintage</th>\n",
       "      <th>Avg_Account_Balance</th>\n",
       "    </tr>\n",
       "  </thead>\n",
       "  <tbody>\n",
       "    <tr>\n",
       "      <th>count</th>\n",
       "      <td>105312.000000</td>\n",
       "      <td>105312.000000</td>\n",
       "      <td>1.053120e+05</td>\n",
       "    </tr>\n",
       "    <tr>\n",
       "      <th>mean</th>\n",
       "      <td>43.871002</td>\n",
       "      <td>46.842819</td>\n",
       "      <td>1.134195e+06</td>\n",
       "    </tr>\n",
       "    <tr>\n",
       "      <th>std</th>\n",
       "      <td>14.872890</td>\n",
       "      <td>32.273634</td>\n",
       "      <td>8.662430e+05</td>\n",
       "    </tr>\n",
       "    <tr>\n",
       "      <th>min</th>\n",
       "      <td>24.000000</td>\n",
       "      <td>7.000000</td>\n",
       "      <td>2.259700e+04</td>\n",
       "    </tr>\n",
       "    <tr>\n",
       "      <th>25%</th>\n",
       "      <td>30.000000</td>\n",
       "      <td>20.000000</td>\n",
       "      <td>6.039822e+05</td>\n",
       "    </tr>\n",
       "    <tr>\n",
       "      <th>50%</th>\n",
       "      <td>43.000000</td>\n",
       "      <td>32.000000</td>\n",
       "      <td>8.966345e+05</td>\n",
       "    </tr>\n",
       "    <tr>\n",
       "      <th>75%</th>\n",
       "      <td>54.000000</td>\n",
       "      <td>73.000000</td>\n",
       "      <td>1.371598e+06</td>\n",
       "    </tr>\n",
       "    <tr>\n",
       "      <th>max</th>\n",
       "      <td>85.000000</td>\n",
       "      <td>135.000000</td>\n",
       "      <td>9.908858e+06</td>\n",
       "    </tr>\n",
       "  </tbody>\n",
       "</table>\n",
       "</div>"
      ],
      "text/plain": [
       "                 Age        Vintage  Avg_Account_Balance\n",
       "count  105312.000000  105312.000000         1.053120e+05\n",
       "mean       43.871002      46.842819         1.134195e+06\n",
       "std        14.872890      32.273634         8.662430e+05\n",
       "min        24.000000       7.000000         2.259700e+04\n",
       "25%        30.000000      20.000000         6.039822e+05\n",
       "50%        43.000000      32.000000         8.966345e+05\n",
       "75%        54.000000      73.000000         1.371598e+06\n",
       "max        85.000000     135.000000         9.908858e+06"
      ]
     },
     "execution_count": 4,
     "metadata": {},
     "output_type": "execute_result"
    }
   ],
   "source": [
    "test.describe()"
   ]
  },
  {
   "cell_type": "code",
   "execution_count": 5,
   "metadata": {},
   "outputs": [
    {
     "data": {
      "text/plain": [
       "(105312, 10)"
      ]
     },
     "execution_count": 5,
     "metadata": {},
     "output_type": "execute_result"
    }
   ],
   "source": [
    "test.shape"
   ]
  },
  {
   "cell_type": "code",
   "execution_count": 6,
   "metadata": {},
   "outputs": [
    {
     "data": {
      "text/plain": [
       "(245725, 11)"
      ]
     },
     "execution_count": 6,
     "metadata": {},
     "output_type": "execute_result"
    }
   ],
   "source": [
    "train.shape"
   ]
  },
  {
   "cell_type": "code",
   "execution_count": 7,
   "metadata": {},
   "outputs": [
    {
     "data": {
      "text/html": [
       "<div>\n",
       "<style scoped>\n",
       "    .dataframe tbody tr th:only-of-type {\n",
       "        vertical-align: middle;\n",
       "    }\n",
       "\n",
       "    .dataframe tbody tr th {\n",
       "        vertical-align: top;\n",
       "    }\n",
       "\n",
       "    .dataframe thead th {\n",
       "        text-align: right;\n",
       "    }\n",
       "</style>\n",
       "<table border=\"1\" class=\"dataframe\">\n",
       "  <thead>\n",
       "    <tr style=\"text-align: right;\">\n",
       "      <th></th>\n",
       "      <th>ID</th>\n",
       "      <th>Gender</th>\n",
       "      <th>Age</th>\n",
       "      <th>Region_Code</th>\n",
       "      <th>Occupation</th>\n",
       "      <th>Channel_Code</th>\n",
       "      <th>Vintage</th>\n",
       "      <th>Credit_Product</th>\n",
       "      <th>Avg_Account_Balance</th>\n",
       "      <th>Is_Active</th>\n",
       "      <th>Is_Lead</th>\n",
       "    </tr>\n",
       "  </thead>\n",
       "  <tbody>\n",
       "    <tr>\n",
       "      <th>0</th>\n",
       "      <td>False</td>\n",
       "      <td>False</td>\n",
       "      <td>False</td>\n",
       "      <td>False</td>\n",
       "      <td>False</td>\n",
       "      <td>False</td>\n",
       "      <td>False</td>\n",
       "      <td>False</td>\n",
       "      <td>False</td>\n",
       "      <td>False</td>\n",
       "      <td>False</td>\n",
       "    </tr>\n",
       "    <tr>\n",
       "      <th>1</th>\n",
       "      <td>False</td>\n",
       "      <td>False</td>\n",
       "      <td>False</td>\n",
       "      <td>False</td>\n",
       "      <td>False</td>\n",
       "      <td>False</td>\n",
       "      <td>False</td>\n",
       "      <td>False</td>\n",
       "      <td>False</td>\n",
       "      <td>False</td>\n",
       "      <td>False</td>\n",
       "    </tr>\n",
       "    <tr>\n",
       "      <th>2</th>\n",
       "      <td>False</td>\n",
       "      <td>False</td>\n",
       "      <td>False</td>\n",
       "      <td>False</td>\n",
       "      <td>False</td>\n",
       "      <td>False</td>\n",
       "      <td>False</td>\n",
       "      <td>False</td>\n",
       "      <td>False</td>\n",
       "      <td>False</td>\n",
       "      <td>False</td>\n",
       "    </tr>\n",
       "    <tr>\n",
       "      <th>3</th>\n",
       "      <td>False</td>\n",
       "      <td>False</td>\n",
       "      <td>False</td>\n",
       "      <td>False</td>\n",
       "      <td>False</td>\n",
       "      <td>False</td>\n",
       "      <td>False</td>\n",
       "      <td>False</td>\n",
       "      <td>False</td>\n",
       "      <td>False</td>\n",
       "      <td>False</td>\n",
       "    </tr>\n",
       "    <tr>\n",
       "      <th>4</th>\n",
       "      <td>False</td>\n",
       "      <td>False</td>\n",
       "      <td>False</td>\n",
       "      <td>False</td>\n",
       "      <td>False</td>\n",
       "      <td>False</td>\n",
       "      <td>False</td>\n",
       "      <td>False</td>\n",
       "      <td>False</td>\n",
       "      <td>False</td>\n",
       "      <td>False</td>\n",
       "    </tr>\n",
       "    <tr>\n",
       "      <th>...</th>\n",
       "      <td>...</td>\n",
       "      <td>...</td>\n",
       "      <td>...</td>\n",
       "      <td>...</td>\n",
       "      <td>...</td>\n",
       "      <td>...</td>\n",
       "      <td>...</td>\n",
       "      <td>...</td>\n",
       "      <td>...</td>\n",
       "      <td>...</td>\n",
       "      <td>...</td>\n",
       "    </tr>\n",
       "    <tr>\n",
       "      <th>245720</th>\n",
       "      <td>False</td>\n",
       "      <td>False</td>\n",
       "      <td>False</td>\n",
       "      <td>False</td>\n",
       "      <td>False</td>\n",
       "      <td>False</td>\n",
       "      <td>False</td>\n",
       "      <td>True</td>\n",
       "      <td>False</td>\n",
       "      <td>False</td>\n",
       "      <td>False</td>\n",
       "    </tr>\n",
       "    <tr>\n",
       "      <th>245721</th>\n",
       "      <td>False</td>\n",
       "      <td>False</td>\n",
       "      <td>False</td>\n",
       "      <td>False</td>\n",
       "      <td>False</td>\n",
       "      <td>False</td>\n",
       "      <td>False</td>\n",
       "      <td>False</td>\n",
       "      <td>False</td>\n",
       "      <td>False</td>\n",
       "      <td>False</td>\n",
       "    </tr>\n",
       "    <tr>\n",
       "      <th>245722</th>\n",
       "      <td>False</td>\n",
       "      <td>False</td>\n",
       "      <td>False</td>\n",
       "      <td>False</td>\n",
       "      <td>False</td>\n",
       "      <td>False</td>\n",
       "      <td>False</td>\n",
       "      <td>False</td>\n",
       "      <td>False</td>\n",
       "      <td>False</td>\n",
       "      <td>False</td>\n",
       "    </tr>\n",
       "    <tr>\n",
       "      <th>245723</th>\n",
       "      <td>False</td>\n",
       "      <td>False</td>\n",
       "      <td>False</td>\n",
       "      <td>False</td>\n",
       "      <td>False</td>\n",
       "      <td>False</td>\n",
       "      <td>False</td>\n",
       "      <td>False</td>\n",
       "      <td>False</td>\n",
       "      <td>False</td>\n",
       "      <td>False</td>\n",
       "    </tr>\n",
       "    <tr>\n",
       "      <th>245724</th>\n",
       "      <td>False</td>\n",
       "      <td>False</td>\n",
       "      <td>False</td>\n",
       "      <td>False</td>\n",
       "      <td>False</td>\n",
       "      <td>False</td>\n",
       "      <td>False</td>\n",
       "      <td>False</td>\n",
       "      <td>False</td>\n",
       "      <td>False</td>\n",
       "      <td>False</td>\n",
       "    </tr>\n",
       "  </tbody>\n",
       "</table>\n",
       "<p>245725 rows × 11 columns</p>\n",
       "</div>"
      ],
      "text/plain": [
       "           ID  Gender    Age  Region_Code  Occupation  Channel_Code  Vintage  \\\n",
       "0       False   False  False        False       False         False    False   \n",
       "1       False   False  False        False       False         False    False   \n",
       "2       False   False  False        False       False         False    False   \n",
       "3       False   False  False        False       False         False    False   \n",
       "4       False   False  False        False       False         False    False   \n",
       "...       ...     ...    ...          ...         ...           ...      ...   \n",
       "245720  False   False  False        False       False         False    False   \n",
       "245721  False   False  False        False       False         False    False   \n",
       "245722  False   False  False        False       False         False    False   \n",
       "245723  False   False  False        False       False         False    False   \n",
       "245724  False   False  False        False       False         False    False   \n",
       "\n",
       "        Credit_Product  Avg_Account_Balance  Is_Active  Is_Lead  \n",
       "0                False                False      False    False  \n",
       "1                False                False      False    False  \n",
       "2                False                False      False    False  \n",
       "3                False                False      False    False  \n",
       "4                False                False      False    False  \n",
       "...                ...                  ...        ...      ...  \n",
       "245720            True                False      False    False  \n",
       "245721           False                False      False    False  \n",
       "245722           False                False      False    False  \n",
       "245723           False                False      False    False  \n",
       "245724           False                False      False    False  \n",
       "\n",
       "[245725 rows x 11 columns]"
      ]
     },
     "execution_count": 7,
     "metadata": {},
     "output_type": "execute_result"
    }
   ],
   "source": [
    "train.isna()"
   ]
  },
  {
   "cell_type": "code",
   "execution_count": 8,
   "metadata": {},
   "outputs": [
    {
     "data": {
      "text/plain": [
       "ID                         0\n",
       "Gender                     0\n",
       "Age                        0\n",
       "Region_Code                0\n",
       "Occupation                 0\n",
       "Channel_Code               0\n",
       "Vintage                    0\n",
       "Credit_Product         29325\n",
       "Avg_Account_Balance        0\n",
       "Is_Active                  0\n",
       "Is_Lead                    0\n",
       "dtype: int64"
      ]
     },
     "execution_count": 8,
     "metadata": {},
     "output_type": "execute_result"
    }
   ],
   "source": [
    "train.isna().sum()"
   ]
  },
  {
   "cell_type": "code",
   "execution_count": 9,
   "metadata": {},
   "outputs": [],
   "source": [
    "y_train=train.dropna()#drop null value in training data "
   ]
  },
  {
   "cell_type": "code",
   "execution_count": 10,
   "metadata": {},
   "outputs": [
    {
     "data": {
      "text/plain": [
       "ID                     0\n",
       "Gender                 0\n",
       "Age                    0\n",
       "Region_Code            0\n",
       "Occupation             0\n",
       "Channel_Code           0\n",
       "Vintage                0\n",
       "Credit_Product         0\n",
       "Avg_Account_Balance    0\n",
       "Is_Active              0\n",
       "Is_Lead                0\n",
       "dtype: int64"
      ]
     },
     "execution_count": 10,
     "metadata": {},
     "output_type": "execute_result"
    }
   ],
   "source": [
    "y_train.isna().sum()"
   ]
  },
  {
   "cell_type": "code",
   "execution_count": 11,
   "metadata": {},
   "outputs": [
    {
     "data": {
      "text/plain": [
       "ID                         0\n",
       "Gender                     0\n",
       "Age                        0\n",
       "Region_Code                0\n",
       "Occupation                 0\n",
       "Channel_Code               0\n",
       "Vintage                    0\n",
       "Credit_Product         12522\n",
       "Avg_Account_Balance        0\n",
       "Is_Active                  0\n",
       "dtype: int64"
      ]
     },
     "execution_count": 11,
     "metadata": {},
     "output_type": "execute_result"
    }
   ],
   "source": [
    "test.isna().sum()"
   ]
  },
  {
   "cell_type": "code",
   "execution_count": 12,
   "metadata": {
    "scrolled": true
   },
   "outputs": [
    {
     "data": {
      "text/html": [
       "<div>\n",
       "<style scoped>\n",
       "    .dataframe tbody tr th:only-of-type {\n",
       "        vertical-align: middle;\n",
       "    }\n",
       "\n",
       "    .dataframe tbody tr th {\n",
       "        vertical-align: top;\n",
       "    }\n",
       "\n",
       "    .dataframe thead th {\n",
       "        text-align: right;\n",
       "    }\n",
       "</style>\n",
       "<table border=\"1\" class=\"dataframe\">\n",
       "  <thead>\n",
       "    <tr style=\"text-align: right;\">\n",
       "      <th></th>\n",
       "      <th>ID</th>\n",
       "      <th>Gender</th>\n",
       "      <th>Age</th>\n",
       "      <th>Region_Code</th>\n",
       "      <th>Occupation</th>\n",
       "      <th>Channel_Code</th>\n",
       "      <th>Vintage</th>\n",
       "      <th>Credit_Product</th>\n",
       "      <th>Avg_Account_Balance</th>\n",
       "      <th>Is_Active</th>\n",
       "    </tr>\n",
       "  </thead>\n",
       "  <tbody>\n",
       "    <tr>\n",
       "      <th>0</th>\n",
       "      <td>VBENBARO</td>\n",
       "      <td>Male</td>\n",
       "      <td>29</td>\n",
       "      <td>RG254</td>\n",
       "      <td>Other</td>\n",
       "      <td>X1</td>\n",
       "      <td>25</td>\n",
       "      <td>Yes</td>\n",
       "      <td>742366</td>\n",
       "      <td>No</td>\n",
       "    </tr>\n",
       "    <tr>\n",
       "      <th>1</th>\n",
       "      <td>CCMEWNKY</td>\n",
       "      <td>Male</td>\n",
       "      <td>43</td>\n",
       "      <td>RG268</td>\n",
       "      <td>Other</td>\n",
       "      <td>X2</td>\n",
       "      <td>49</td>\n",
       "      <td>Yes</td>\n",
       "      <td>925537</td>\n",
       "      <td>No</td>\n",
       "    </tr>\n",
       "    <tr>\n",
       "      <th>2</th>\n",
       "      <td>VK3KGA9M</td>\n",
       "      <td>Male</td>\n",
       "      <td>31</td>\n",
       "      <td>RG270</td>\n",
       "      <td>Salaried</td>\n",
       "      <td>X1</td>\n",
       "      <td>14</td>\n",
       "      <td>No</td>\n",
       "      <td>215949</td>\n",
       "      <td>No</td>\n",
       "    </tr>\n",
       "    <tr>\n",
       "      <th>3</th>\n",
       "      <td>TT8RPZVC</td>\n",
       "      <td>Male</td>\n",
       "      <td>29</td>\n",
       "      <td>RG272</td>\n",
       "      <td>Other</td>\n",
       "      <td>X1</td>\n",
       "      <td>33</td>\n",
       "      <td>No</td>\n",
       "      <td>868070</td>\n",
       "      <td>No</td>\n",
       "    </tr>\n",
       "    <tr>\n",
       "      <th>4</th>\n",
       "      <td>SHQZEYTZ</td>\n",
       "      <td>Female</td>\n",
       "      <td>29</td>\n",
       "      <td>RG270</td>\n",
       "      <td>Other</td>\n",
       "      <td>X1</td>\n",
       "      <td>19</td>\n",
       "      <td>No</td>\n",
       "      <td>657087</td>\n",
       "      <td>No</td>\n",
       "    </tr>\n",
       "    <tr>\n",
       "      <th>...</th>\n",
       "      <td>...</td>\n",
       "      <td>...</td>\n",
       "      <td>...</td>\n",
       "      <td>...</td>\n",
       "      <td>...</td>\n",
       "      <td>...</td>\n",
       "      <td>...</td>\n",
       "      <td>...</td>\n",
       "      <td>...</td>\n",
       "      <td>...</td>\n",
       "    </tr>\n",
       "    <tr>\n",
       "      <th>105307</th>\n",
       "      <td>DBENJOYI</td>\n",
       "      <td>Male</td>\n",
       "      <td>52</td>\n",
       "      <td>RG268</td>\n",
       "      <td>Salaried</td>\n",
       "      <td>X2</td>\n",
       "      <td>86</td>\n",
       "      <td>Yes</td>\n",
       "      <td>4242558</td>\n",
       "      <td>Yes</td>\n",
       "    </tr>\n",
       "    <tr>\n",
       "      <th>105308</th>\n",
       "      <td>CWQ72DWS</td>\n",
       "      <td>Male</td>\n",
       "      <td>55</td>\n",
       "      <td>RG277</td>\n",
       "      <td>Other</td>\n",
       "      <td>X2</td>\n",
       "      <td>86</td>\n",
       "      <td>Yes</td>\n",
       "      <td>1159153</td>\n",
       "      <td>No</td>\n",
       "    </tr>\n",
       "    <tr>\n",
       "      <th>105309</th>\n",
       "      <td>HDESC8GU</td>\n",
       "      <td>Male</td>\n",
       "      <td>35</td>\n",
       "      <td>RG254</td>\n",
       "      <td>Salaried</td>\n",
       "      <td>X4</td>\n",
       "      <td>15</td>\n",
       "      <td>No</td>\n",
       "      <td>1703727</td>\n",
       "      <td>No</td>\n",
       "    </tr>\n",
       "    <tr>\n",
       "      <th>105310</th>\n",
       "      <td>2PW4SFCA</td>\n",
       "      <td>Male</td>\n",
       "      <td>53</td>\n",
       "      <td>RG254</td>\n",
       "      <td>Other</td>\n",
       "      <td>X3</td>\n",
       "      <td>93</td>\n",
       "      <td>No</td>\n",
       "      <td>737178</td>\n",
       "      <td>Yes</td>\n",
       "    </tr>\n",
       "    <tr>\n",
       "      <th>105311</th>\n",
       "      <td>F2NOYPPZ</td>\n",
       "      <td>Male</td>\n",
       "      <td>27</td>\n",
       "      <td>RG256</td>\n",
       "      <td>Salaried</td>\n",
       "      <td>X1</td>\n",
       "      <td>21</td>\n",
       "      <td>No</td>\n",
       "      <td>591565</td>\n",
       "      <td>No</td>\n",
       "    </tr>\n",
       "  </tbody>\n",
       "</table>\n",
       "<p>105312 rows × 10 columns</p>\n",
       "</div>"
      ],
      "text/plain": [
       "              ID  Gender  Age Region_Code Occupation Channel_Code  Vintage  \\\n",
       "0       VBENBARO    Male   29       RG254      Other           X1       25   \n",
       "1       CCMEWNKY    Male   43       RG268      Other           X2       49   \n",
       "2       VK3KGA9M    Male   31       RG270   Salaried           X1       14   \n",
       "3       TT8RPZVC    Male   29       RG272      Other           X1       33   \n",
       "4       SHQZEYTZ  Female   29       RG270      Other           X1       19   \n",
       "...          ...     ...  ...         ...        ...          ...      ...   \n",
       "105307  DBENJOYI    Male   52       RG268   Salaried           X2       86   \n",
       "105308  CWQ72DWS    Male   55       RG277      Other           X2       86   \n",
       "105309  HDESC8GU    Male   35       RG254   Salaried           X4       15   \n",
       "105310  2PW4SFCA    Male   53       RG254      Other           X3       93   \n",
       "105311  F2NOYPPZ    Male   27       RG256   Salaried           X1       21   \n",
       "\n",
       "       Credit_Product  Avg_Account_Balance Is_Active  \n",
       "0                 Yes               742366        No  \n",
       "1                 Yes               925537        No  \n",
       "2                  No               215949        No  \n",
       "3                  No               868070        No  \n",
       "4                  No               657087        No  \n",
       "...               ...                  ...       ...  \n",
       "105307            Yes              4242558       Yes  \n",
       "105308            Yes              1159153        No  \n",
       "105309             No              1703727        No  \n",
       "105310             No               737178       Yes  \n",
       "105311             No               591565        No  \n",
       "\n",
       "[105312 rows x 10 columns]"
      ]
     },
     "execution_count": 12,
     "metadata": {},
     "output_type": "execute_result"
    }
   ],
   "source": [
    "x_test=test.fillna(method='ffill')#forward filling\n",
    "x_test"
   ]
  },
  {
   "cell_type": "code",
   "execution_count": 13,
   "metadata": {},
   "outputs": [
    {
     "data": {
      "text/plain": [
       "ID                     0\n",
       "Gender                 0\n",
       "Age                    0\n",
       "Region_Code            0\n",
       "Occupation             0\n",
       "Channel_Code           0\n",
       "Vintage                0\n",
       "Credit_Product         0\n",
       "Avg_Account_Balance    0\n",
       "Is_Active              0\n",
       "dtype: int64"
      ]
     },
     "execution_count": 13,
     "metadata": {},
     "output_type": "execute_result"
    }
   ],
   "source": [
    "x_test.isna().sum()"
   ]
  },
  {
   "cell_type": "code",
   "execution_count": 14,
   "metadata": {},
   "outputs": [],
   "source": [
    "y_train.set_index(\"ID\", inplace = True)"
   ]
  },
  {
   "cell_type": "code",
   "execution_count": 15,
   "metadata": {},
   "outputs": [],
   "source": [
    "x_test.set_index(\"ID\", inplace =True)"
   ]
  },
  {
   "cell_type": "code",
   "execution_count": 16,
   "metadata": {},
   "outputs": [
    {
     "data": {
      "text/plain": [
       "33313"
      ]
     },
     "execution_count": 16,
     "metadata": {},
     "output_type": "execute_result"
    }
   ],
   "source": [
    "lead_1 = y_train[y_train['Is_Lead']==True]#Interested people\n",
    "len(lead_1)"
   ]
  },
  {
   "cell_type": "code",
   "execution_count": 17,
   "metadata": {},
   "outputs": [
    {
     "data": {
      "text/plain": [
       "183087"
      ]
     },
     "execution_count": 17,
     "metadata": {},
     "output_type": "execute_result"
    }
   ],
   "source": [
    "lead_0 = y_train[y_train['Is_Lead']==False]# Not Interested people\n",
    "len(lead_0)"
   ]
  },
  {
   "cell_type": "code",
   "execution_count": 18,
   "metadata": {},
   "outputs": [
    {
     "data": {
      "text/plain": [
       "[          Gender  Age Region_Code     Occupation Channel_Code  Vintage  \\\n",
       " ID                                                                       \n",
       " NNVBBKZB  Female   73       RG268          Other           X3       43   \n",
       " IDD62UNG  Female   30       RG277       Salaried           X1       32   \n",
       " HD3DSEMC  Female   56       RG268  Self_Employed           X3       26   \n",
       " BF3NC7KV    Male   34       RG270       Salaried           X1       19   \n",
       " TEASRWXV  Female   30       RG282       Salaried           X1       33   \n",
       " ...          ...  ...         ...            ...          ...      ...   \n",
       " BN3B2JKY  Female   26       RG263          Other           X1       15   \n",
       " VBAQOMN7  Female   27       RG259          Other           X1       13   \n",
       " K6FMOMVN    Male   29       RG284          Other           X1       27   \n",
       " PXXDB6Q2  Female   36       RG280       Salaried           X1       25   \n",
       " XVTEUEC5  Female   29       RG279          Other           X1       26   \n",
       " \n",
       "          Credit_Product  Avg_Account_Balance Is_Active  Is_Lead  \n",
       " ID                                                               \n",
       " NNVBBKZB             No              1045696        No        0  \n",
       " IDD62UNG             No               581988        No        0  \n",
       " HD3DSEMC             No              1484315       Yes        0  \n",
       " BF3NC7KV             No               470454        No        0  \n",
       " TEASRWXV             No               886787        No        0  \n",
       " ...                 ...                  ...       ...      ...  \n",
       " BN3B2JKY             No               646700       Yes        0  \n",
       " VBAQOMN7            Yes               913700        No        0  \n",
       " K6FMOMVN             No               731669        No        0  \n",
       " PXXDB6Q2             No               818719        No        0  \n",
       " XVTEUEC5             No               480884        No        0  \n",
       " \n",
       " [40000 rows x 10 columns],\n",
       "           Gender  Age Region_Code     Occupation Channel_Code  Vintage  \\\n",
       " ID                                                                       \n",
       " CNGSPYWS  Female   46       RG268          Other           X3       97   \n",
       " VH7NBNNQ  Female   59       RG283          Other           X3       15   \n",
       " 7PMYNWB3    Male   44       RG269  Self_Employed           X2       19   \n",
       " KGLLM5AM  Female   52       RG283  Self_Employed           X3       56   \n",
       " FXPTJYP7    Male   67       RG268          Other           X1       87   \n",
       " ...          ...  ...         ...            ...          ...      ...   \n",
       " 3HPHK52G    Male   51       RG283  Self_Employed           X1       91   \n",
       " NUTSCAQY  Female   52       RG273          Other           X3       74   \n",
       " DTQJBXK6    Male   43       RG257       Salaried           X1       50   \n",
       " 4GZKAUQC    Male   36       RG284  Self_Employed           X3       15   \n",
       " BZ7NHPMJ  Female   41       RG277  Self_Employed           X2       13   \n",
       " \n",
       "          Credit_Product  Avg_Account_Balance Is_Active  Is_Lead  \n",
       " ID                                                               \n",
       " CNGSPYWS            Yes              2282502        No        1  \n",
       " VH7NBNNQ            Yes              2384692        No        1  \n",
       " 7PMYNWB3            Yes              1001650        No        1  \n",
       " KGLLM5AM            Yes              1056910       Yes        1  \n",
       " FXPTJYP7            Yes              1684182        No        1  \n",
       " ...                 ...                  ...       ...      ...  \n",
       " 3HPHK52G             No               766548        No        1  \n",
       " NUTSCAQY            Yes              1122023       Yes        1  \n",
       " DTQJBXK6             No               551203       Yes        1  \n",
       " 4GZKAUQC            Yes               608110       Yes        1  \n",
       " BZ7NHPMJ            Yes               898170       Yes        1  \n",
       " \n",
       " [33313 rows x 10 columns]]"
      ]
     },
     "execution_count": 18,
     "metadata": {},
     "output_type": "execute_result"
    }
   ],
   "source": [
    "#We can see that training data have 'lead_0' approx 5 times more than 'lead_1'.\n",
    "frames= [y_train[y_train['Is_Lead']==False].iloc[:40000, : ] , y_train[y_train['Is_Lead']==True]]\n",
    "frames"
   ]
  },
  {
   "cell_type": "code",
   "execution_count": 19,
   "metadata": {},
   "outputs": [
    {
     "data": {
      "text/html": [
       "<div>\n",
       "<style scoped>\n",
       "    .dataframe tbody tr th:only-of-type {\n",
       "        vertical-align: middle;\n",
       "    }\n",
       "\n",
       "    .dataframe tbody tr th {\n",
       "        vertical-align: top;\n",
       "    }\n",
       "\n",
       "    .dataframe thead th {\n",
       "        text-align: right;\n",
       "    }\n",
       "</style>\n",
       "<table border=\"1\" class=\"dataframe\">\n",
       "  <thead>\n",
       "    <tr style=\"text-align: right;\">\n",
       "      <th></th>\n",
       "      <th>Gender</th>\n",
       "      <th>Age</th>\n",
       "      <th>Region_Code</th>\n",
       "      <th>Occupation</th>\n",
       "      <th>Channel_Code</th>\n",
       "      <th>Vintage</th>\n",
       "      <th>Credit_Product</th>\n",
       "      <th>Avg_Account_Balance</th>\n",
       "      <th>Is_Active</th>\n",
       "      <th>Is_Lead</th>\n",
       "    </tr>\n",
       "    <tr>\n",
       "      <th>ID</th>\n",
       "      <th></th>\n",
       "      <th></th>\n",
       "      <th></th>\n",
       "      <th></th>\n",
       "      <th></th>\n",
       "      <th></th>\n",
       "      <th></th>\n",
       "      <th></th>\n",
       "      <th></th>\n",
       "      <th></th>\n",
       "    </tr>\n",
       "  </thead>\n",
       "  <tbody>\n",
       "    <tr>\n",
       "      <th>NNVBBKZB</th>\n",
       "      <td>Female</td>\n",
       "      <td>73</td>\n",
       "      <td>RG268</td>\n",
       "      <td>Other</td>\n",
       "      <td>X3</td>\n",
       "      <td>43</td>\n",
       "      <td>No</td>\n",
       "      <td>1045696</td>\n",
       "      <td>No</td>\n",
       "      <td>0</td>\n",
       "    </tr>\n",
       "    <tr>\n",
       "      <th>IDD62UNG</th>\n",
       "      <td>Female</td>\n",
       "      <td>30</td>\n",
       "      <td>RG277</td>\n",
       "      <td>Salaried</td>\n",
       "      <td>X1</td>\n",
       "      <td>32</td>\n",
       "      <td>No</td>\n",
       "      <td>581988</td>\n",
       "      <td>No</td>\n",
       "      <td>0</td>\n",
       "    </tr>\n",
       "    <tr>\n",
       "      <th>HD3DSEMC</th>\n",
       "      <td>Female</td>\n",
       "      <td>56</td>\n",
       "      <td>RG268</td>\n",
       "      <td>Self_Employed</td>\n",
       "      <td>X3</td>\n",
       "      <td>26</td>\n",
       "      <td>No</td>\n",
       "      <td>1484315</td>\n",
       "      <td>Yes</td>\n",
       "      <td>0</td>\n",
       "    </tr>\n",
       "    <tr>\n",
       "      <th>BF3NC7KV</th>\n",
       "      <td>Male</td>\n",
       "      <td>34</td>\n",
       "      <td>RG270</td>\n",
       "      <td>Salaried</td>\n",
       "      <td>X1</td>\n",
       "      <td>19</td>\n",
       "      <td>No</td>\n",
       "      <td>470454</td>\n",
       "      <td>No</td>\n",
       "      <td>0</td>\n",
       "    </tr>\n",
       "    <tr>\n",
       "      <th>TEASRWXV</th>\n",
       "      <td>Female</td>\n",
       "      <td>30</td>\n",
       "      <td>RG282</td>\n",
       "      <td>Salaried</td>\n",
       "      <td>X1</td>\n",
       "      <td>33</td>\n",
       "      <td>No</td>\n",
       "      <td>886787</td>\n",
       "      <td>No</td>\n",
       "      <td>0</td>\n",
       "    </tr>\n",
       "    <tr>\n",
       "      <th>...</th>\n",
       "      <td>...</td>\n",
       "      <td>...</td>\n",
       "      <td>...</td>\n",
       "      <td>...</td>\n",
       "      <td>...</td>\n",
       "      <td>...</td>\n",
       "      <td>...</td>\n",
       "      <td>...</td>\n",
       "      <td>...</td>\n",
       "      <td>...</td>\n",
       "    </tr>\n",
       "    <tr>\n",
       "      <th>3HPHK52G</th>\n",
       "      <td>Male</td>\n",
       "      <td>51</td>\n",
       "      <td>RG283</td>\n",
       "      <td>Self_Employed</td>\n",
       "      <td>X1</td>\n",
       "      <td>91</td>\n",
       "      <td>No</td>\n",
       "      <td>766548</td>\n",
       "      <td>No</td>\n",
       "      <td>1</td>\n",
       "    </tr>\n",
       "    <tr>\n",
       "      <th>NUTSCAQY</th>\n",
       "      <td>Female</td>\n",
       "      <td>52</td>\n",
       "      <td>RG273</td>\n",
       "      <td>Other</td>\n",
       "      <td>X3</td>\n",
       "      <td>74</td>\n",
       "      <td>Yes</td>\n",
       "      <td>1122023</td>\n",
       "      <td>Yes</td>\n",
       "      <td>1</td>\n",
       "    </tr>\n",
       "    <tr>\n",
       "      <th>DTQJBXK6</th>\n",
       "      <td>Male</td>\n",
       "      <td>43</td>\n",
       "      <td>RG257</td>\n",
       "      <td>Salaried</td>\n",
       "      <td>X1</td>\n",
       "      <td>50</td>\n",
       "      <td>No</td>\n",
       "      <td>551203</td>\n",
       "      <td>Yes</td>\n",
       "      <td>1</td>\n",
       "    </tr>\n",
       "    <tr>\n",
       "      <th>4GZKAUQC</th>\n",
       "      <td>Male</td>\n",
       "      <td>36</td>\n",
       "      <td>RG284</td>\n",
       "      <td>Self_Employed</td>\n",
       "      <td>X3</td>\n",
       "      <td>15</td>\n",
       "      <td>Yes</td>\n",
       "      <td>608110</td>\n",
       "      <td>Yes</td>\n",
       "      <td>1</td>\n",
       "    </tr>\n",
       "    <tr>\n",
       "      <th>BZ7NHPMJ</th>\n",
       "      <td>Female</td>\n",
       "      <td>41</td>\n",
       "      <td>RG277</td>\n",
       "      <td>Self_Employed</td>\n",
       "      <td>X2</td>\n",
       "      <td>13</td>\n",
       "      <td>Yes</td>\n",
       "      <td>898170</td>\n",
       "      <td>Yes</td>\n",
       "      <td>1</td>\n",
       "    </tr>\n",
       "  </tbody>\n",
       "</table>\n",
       "<p>73313 rows × 10 columns</p>\n",
       "</div>"
      ],
      "text/plain": [
       "          Gender  Age Region_Code     Occupation Channel_Code  Vintage  \\\n",
       "ID                                                                       \n",
       "NNVBBKZB  Female   73       RG268          Other           X3       43   \n",
       "IDD62UNG  Female   30       RG277       Salaried           X1       32   \n",
       "HD3DSEMC  Female   56       RG268  Self_Employed           X3       26   \n",
       "BF3NC7KV    Male   34       RG270       Salaried           X1       19   \n",
       "TEASRWXV  Female   30       RG282       Salaried           X1       33   \n",
       "...          ...  ...         ...            ...          ...      ...   \n",
       "3HPHK52G    Male   51       RG283  Self_Employed           X1       91   \n",
       "NUTSCAQY  Female   52       RG273          Other           X3       74   \n",
       "DTQJBXK6    Male   43       RG257       Salaried           X1       50   \n",
       "4GZKAUQC    Male   36       RG284  Self_Employed           X3       15   \n",
       "BZ7NHPMJ  Female   41       RG277  Self_Employed           X2       13   \n",
       "\n",
       "         Credit_Product  Avg_Account_Balance Is_Active  Is_Lead  \n",
       "ID                                                               \n",
       "NNVBBKZB             No              1045696        No        0  \n",
       "IDD62UNG             No               581988        No        0  \n",
       "HD3DSEMC             No              1484315       Yes        0  \n",
       "BF3NC7KV             No               470454        No        0  \n",
       "TEASRWXV             No               886787        No        0  \n",
       "...                 ...                  ...       ...      ...  \n",
       "3HPHK52G             No               766548        No        1  \n",
       "NUTSCAQY            Yes              1122023       Yes        1  \n",
       "DTQJBXK6             No               551203       Yes        1  \n",
       "4GZKAUQC            Yes               608110       Yes        1  \n",
       "BZ7NHPMJ            Yes               898170       Yes        1  \n",
       "\n",
       "[73313 rows x 10 columns]"
      ]
     },
     "execution_count": 19,
     "metadata": {},
     "output_type": "execute_result"
    }
   ],
   "source": [
    "balance_y_train=pd.concat(frames)\n",
    "balance_y_train #balancing data"
   ]
  },
  {
   "cell_type": "code",
   "execution_count": 20,
   "metadata": {},
   "outputs": [],
   "source": [
    "x_train = pd.DataFrame(balance_y_train['Is_Lead'])\n",
    "balance_y_train = balance_y_train.drop(columns=\"Is_Lead\")\n",
    "# dividing input and output features"
   ]
  },
  {
   "cell_type": "code",
   "execution_count": 21,
   "metadata": {},
   "outputs": [
    {
     "data": {
      "text/html": [
       "<div>\n",
       "<style scoped>\n",
       "    .dataframe tbody tr th:only-of-type {\n",
       "        vertical-align: middle;\n",
       "    }\n",
       "\n",
       "    .dataframe tbody tr th {\n",
       "        vertical-align: top;\n",
       "    }\n",
       "\n",
       "    .dataframe thead th {\n",
       "        text-align: right;\n",
       "    }\n",
       "</style>\n",
       "<table border=\"1\" class=\"dataframe\">\n",
       "  <thead>\n",
       "    <tr style=\"text-align: right;\">\n",
       "      <th></th>\n",
       "      <th>Gender</th>\n",
       "      <th>Age</th>\n",
       "      <th>Region_Code</th>\n",
       "      <th>Occupation</th>\n",
       "      <th>Channel_Code</th>\n",
       "      <th>Vintage</th>\n",
       "      <th>Credit_Product</th>\n",
       "      <th>Avg_Account_Balance</th>\n",
       "      <th>Is_Active</th>\n",
       "    </tr>\n",
       "    <tr>\n",
       "      <th>ID</th>\n",
       "      <th></th>\n",
       "      <th></th>\n",
       "      <th></th>\n",
       "      <th></th>\n",
       "      <th></th>\n",
       "      <th></th>\n",
       "      <th></th>\n",
       "      <th></th>\n",
       "      <th></th>\n",
       "    </tr>\n",
       "  </thead>\n",
       "  <tbody>\n",
       "    <tr>\n",
       "      <th>NNVBBKZB</th>\n",
       "      <td>Female</td>\n",
       "      <td>73</td>\n",
       "      <td>RG268</td>\n",
       "      <td>Other</td>\n",
       "      <td>X3</td>\n",
       "      <td>43</td>\n",
       "      <td>No</td>\n",
       "      <td>1045696</td>\n",
       "      <td>No</td>\n",
       "    </tr>\n",
       "    <tr>\n",
       "      <th>IDD62UNG</th>\n",
       "      <td>Female</td>\n",
       "      <td>30</td>\n",
       "      <td>RG277</td>\n",
       "      <td>Salaried</td>\n",
       "      <td>X1</td>\n",
       "      <td>32</td>\n",
       "      <td>No</td>\n",
       "      <td>581988</td>\n",
       "      <td>No</td>\n",
       "    </tr>\n",
       "    <tr>\n",
       "      <th>HD3DSEMC</th>\n",
       "      <td>Female</td>\n",
       "      <td>56</td>\n",
       "      <td>RG268</td>\n",
       "      <td>Self_Employed</td>\n",
       "      <td>X3</td>\n",
       "      <td>26</td>\n",
       "      <td>No</td>\n",
       "      <td>1484315</td>\n",
       "      <td>Yes</td>\n",
       "    </tr>\n",
       "    <tr>\n",
       "      <th>BF3NC7KV</th>\n",
       "      <td>Male</td>\n",
       "      <td>34</td>\n",
       "      <td>RG270</td>\n",
       "      <td>Salaried</td>\n",
       "      <td>X1</td>\n",
       "      <td>19</td>\n",
       "      <td>No</td>\n",
       "      <td>470454</td>\n",
       "      <td>No</td>\n",
       "    </tr>\n",
       "    <tr>\n",
       "      <th>TEASRWXV</th>\n",
       "      <td>Female</td>\n",
       "      <td>30</td>\n",
       "      <td>RG282</td>\n",
       "      <td>Salaried</td>\n",
       "      <td>X1</td>\n",
       "      <td>33</td>\n",
       "      <td>No</td>\n",
       "      <td>886787</td>\n",
       "      <td>No</td>\n",
       "    </tr>\n",
       "    <tr>\n",
       "      <th>...</th>\n",
       "      <td>...</td>\n",
       "      <td>...</td>\n",
       "      <td>...</td>\n",
       "      <td>...</td>\n",
       "      <td>...</td>\n",
       "      <td>...</td>\n",
       "      <td>...</td>\n",
       "      <td>...</td>\n",
       "      <td>...</td>\n",
       "    </tr>\n",
       "    <tr>\n",
       "      <th>3HPHK52G</th>\n",
       "      <td>Male</td>\n",
       "      <td>51</td>\n",
       "      <td>RG283</td>\n",
       "      <td>Self_Employed</td>\n",
       "      <td>X1</td>\n",
       "      <td>91</td>\n",
       "      <td>No</td>\n",
       "      <td>766548</td>\n",
       "      <td>No</td>\n",
       "    </tr>\n",
       "    <tr>\n",
       "      <th>NUTSCAQY</th>\n",
       "      <td>Female</td>\n",
       "      <td>52</td>\n",
       "      <td>RG273</td>\n",
       "      <td>Other</td>\n",
       "      <td>X3</td>\n",
       "      <td>74</td>\n",
       "      <td>Yes</td>\n",
       "      <td>1122023</td>\n",
       "      <td>Yes</td>\n",
       "    </tr>\n",
       "    <tr>\n",
       "      <th>DTQJBXK6</th>\n",
       "      <td>Male</td>\n",
       "      <td>43</td>\n",
       "      <td>RG257</td>\n",
       "      <td>Salaried</td>\n",
       "      <td>X1</td>\n",
       "      <td>50</td>\n",
       "      <td>No</td>\n",
       "      <td>551203</td>\n",
       "      <td>Yes</td>\n",
       "    </tr>\n",
       "    <tr>\n",
       "      <th>4GZKAUQC</th>\n",
       "      <td>Male</td>\n",
       "      <td>36</td>\n",
       "      <td>RG284</td>\n",
       "      <td>Self_Employed</td>\n",
       "      <td>X3</td>\n",
       "      <td>15</td>\n",
       "      <td>Yes</td>\n",
       "      <td>608110</td>\n",
       "      <td>Yes</td>\n",
       "    </tr>\n",
       "    <tr>\n",
       "      <th>BZ7NHPMJ</th>\n",
       "      <td>Female</td>\n",
       "      <td>41</td>\n",
       "      <td>RG277</td>\n",
       "      <td>Self_Employed</td>\n",
       "      <td>X2</td>\n",
       "      <td>13</td>\n",
       "      <td>Yes</td>\n",
       "      <td>898170</td>\n",
       "      <td>Yes</td>\n",
       "    </tr>\n",
       "  </tbody>\n",
       "</table>\n",
       "<p>73313 rows × 9 columns</p>\n",
       "</div>"
      ],
      "text/plain": [
       "          Gender  Age Region_Code     Occupation Channel_Code  Vintage  \\\n",
       "ID                                                                       \n",
       "NNVBBKZB  Female   73       RG268          Other           X3       43   \n",
       "IDD62UNG  Female   30       RG277       Salaried           X1       32   \n",
       "HD3DSEMC  Female   56       RG268  Self_Employed           X3       26   \n",
       "BF3NC7KV    Male   34       RG270       Salaried           X1       19   \n",
       "TEASRWXV  Female   30       RG282       Salaried           X1       33   \n",
       "...          ...  ...         ...            ...          ...      ...   \n",
       "3HPHK52G    Male   51       RG283  Self_Employed           X1       91   \n",
       "NUTSCAQY  Female   52       RG273          Other           X3       74   \n",
       "DTQJBXK6    Male   43       RG257       Salaried           X1       50   \n",
       "4GZKAUQC    Male   36       RG284  Self_Employed           X3       15   \n",
       "BZ7NHPMJ  Female   41       RG277  Self_Employed           X2       13   \n",
       "\n",
       "         Credit_Product  Avg_Account_Balance Is_Active  \n",
       "ID                                                      \n",
       "NNVBBKZB             No              1045696        No  \n",
       "IDD62UNG             No               581988        No  \n",
       "HD3DSEMC             No              1484315       Yes  \n",
       "BF3NC7KV             No               470454        No  \n",
       "TEASRWXV             No               886787        No  \n",
       "...                 ...                  ...       ...  \n",
       "3HPHK52G             No               766548        No  \n",
       "NUTSCAQY            Yes              1122023       Yes  \n",
       "DTQJBXK6             No               551203       Yes  \n",
       "4GZKAUQC            Yes               608110       Yes  \n",
       "BZ7NHPMJ            Yes               898170       Yes  \n",
       "\n",
       "[73313 rows x 9 columns]"
      ]
     },
     "execution_count": 21,
     "metadata": {},
     "output_type": "execute_result"
    }
   ],
   "source": [
    "balance_y_train"
   ]
  },
  {
   "cell_type": "code",
   "execution_count": 22,
   "metadata": {},
   "outputs": [
    {
     "data": {
      "text/plain": [
       "array([0, 1], dtype=int64)"
      ]
     },
     "execution_count": 22,
     "metadata": {},
     "output_type": "execute_result"
    }
   ],
   "source": [
    "x_train['Is_Lead'].unique()"
   ]
  },
  {
   "cell_type": "code",
   "execution_count": 23,
   "metadata": {},
   "outputs": [],
   "source": [
    "#encoding of training data \n",
    "from sklearn import preprocessing\n",
    "s=preprocessing.LabelEncoder()\n",
    "for column_name in balance_y_train.columns:\n",
    "    if balance_y_train[column_name].dtype == object:\n",
    "        balance_y_train[column_name] = s.fit_transform(balance_y_train[column_name])\n",
    "    else:\n",
    "        pass"
   ]
  },
  {
   "cell_type": "code",
   "execution_count": 24,
   "metadata": {},
   "outputs": [],
   "source": [
    "#encoding of testing data\n",
    "for column_name in x_test.columns:\n",
    "    if x_test[column_name].dtype == object:\n",
    "        x_test[column_name] = s.fit_transform(x_test[column_name])\n",
    "    else:\n",
    "        pass     "
   ]
  },
  {
   "cell_type": "code",
   "execution_count": 25,
   "metadata": {},
   "outputs": [],
   "source": [
    "from sklearn.model_selection import train_test_split, RepeatedStratifiedKFold, cross_val_score\n",
    "Y_train, Y_test, X_train, X_test = train_test_split(balance_y_train, x_train, test_size=0.33)"
   ]
  },
  {
   "cell_type": "markdown",
   "metadata": {},
   "source": [
    "# classification model\n"
   ]
  },
  {
   "cell_type": "code",
   "execution_count": 26,
   "metadata": {},
   "outputs": [
    {
     "name": "stderr",
     "output_type": "stream",
     "text": [
      "C:\\ProgramData\\Anaconda3\\lib\\site-packages\\sklearn\\utils\\validation.py:72: DataConversionWarning: A column-vector y was passed when a 1d array was expected. Please change the shape of y to (n_samples, ), for example using ravel().\n",
      "  return f(**kwargs)\n"
     ]
    },
    {
     "data": {
      "text/plain": [
       "64.524262213772"
      ]
     },
     "execution_count": 26,
     "metadata": {},
     "output_type": "execute_result"
    }
   ],
   "source": [
    "#Naive bayes\n",
    "\n",
    "from sklearn.naive_bayes import GaussianNB\n",
    "from sklearn.metrics import accuracy_score\n",
    "\n",
    "nb=GaussianNB()\n",
    "nb.fit(Y_train,X_train)\n",
    "predicted_X = nb.predict(Y_test)\n",
    "acc=accuracy_score(X_test, predicted_X)*100\n",
    "acc"
   ]
  },
  {
   "cell_type": "code",
   "execution_count": 28,
   "metadata": {},
   "outputs": [
    {
     "data": {
      "text/plain": [
       "array([0.72874245, 0.40964288, 0.35248433, ..., 0.62347387, 0.35498891,\n",
       "       0.39222041])"
      ]
     },
     "execution_count": 28,
     "metadata": {},
     "output_type": "execute_result"
    }
   ],
   "source": [
    "y_score1=nb.predict_proba(Y_test)[:,1]#predicting target values for test dataset we store predicted class and use it to get the roc_auc_score\n",
    "y_score1"
   ]
  },
  {
   "cell_type": "code",
   "execution_count": 39,
   "metadata": {},
   "outputs": [
    {
     "data": {
      "text/plain": [
       "0.6734641486924302"
      ]
     },
     "execution_count": 39,
     "metadata": {},
     "output_type": "execute_result"
    }
   ],
   "source": [
    "from sklearn.metrics import roc_auc_score\n",
    "roc_score = roc_auc_score(X_test, y_score1)\n",
    "roc_score "
   ]
  },
  {
   "cell_type": "code",
   "execution_count": 30,
   "metadata": {},
   "outputs": [
    {
     "name": "stderr",
     "output_type": "stream",
     "text": [
      "C:\\ProgramData\\Anaconda3\\lib\\site-packages\\sklearn\\utils\\validation.py:72: DataConversionWarning: A column-vector y was passed when a 1d array was expected. Please change the shape of y to (n_samples, ), for example using ravel().\n",
      "  return f(**kwargs)\n"
     ]
    },
    {
     "data": {
      "text/plain": [
       "54.69951227577086"
      ]
     },
     "execution_count": 30,
     "metadata": {},
     "output_type": "execute_result"
    }
   ],
   "source": [
    "#LogisticRegression\n",
    "\n",
    "from sklearn.linear_model import LogisticRegression\n",
    "\n",
    "lr = LogisticRegression()\n",
    "lr.fit(Y_train,X_train)\n",
    "predicted_X = lr.predict(Y_test)\n",
    "acc_lr = accuracy_score(X_test, predicted_X)*100\n",
    "acc_lr"
   ]
  },
  {
   "cell_type": "code",
   "execution_count": 31,
   "metadata": {},
   "outputs": [
    {
     "data": {
      "text/plain": [
       "array([0.49053909, 0.46821677, 0.47776795, ..., 0.48084833, 0.49251806,\n",
       "       0.46666155])"
      ]
     },
     "execution_count": 31,
     "metadata": {},
     "output_type": "execute_result"
    }
   ],
   "source": [
    "y_score2=lr.predict_proba(Y_test)[:,1]\n",
    "y_score2"
   ]
  },
  {
   "cell_type": "code",
   "execution_count": 40,
   "metadata": {},
   "outputs": [
    {
     "data": {
      "text/plain": [
       "0.451100454315306"
      ]
     },
     "execution_count": 40,
     "metadata": {},
     "output_type": "execute_result"
    }
   ],
   "source": [
    "roc_score2 = roc_auc_score(X_test, y_score2)\n",
    "roc_score2 "
   ]
  },
  {
   "cell_type": "code",
   "execution_count": 32,
   "metadata": {},
   "outputs": [
    {
     "data": {
      "text/plain": [
       "63.676944697032326"
      ]
     },
     "execution_count": 32,
     "metadata": {},
     "output_type": "execute_result"
    }
   ],
   "source": [
    "#DecisionTreeClassifier \n",
    "\n",
    "from sklearn.tree import DecisionTreeClassifier\n",
    "dtree = DecisionTreeClassifier()\n",
    "dtree.fit(Y_train, X_train)\n",
    "predicted_X = dtree.predict(Y_test)\n",
    "acc_dtree = accuracy_score(X_test, predicted_X)*100\n",
    "acc_dtree"
   ]
  },
  {
   "cell_type": "code",
   "execution_count": 33,
   "metadata": {},
   "outputs": [
    {
     "data": {
      "text/plain": [
       "array([0., 0., 1., ..., 0., 1., 0.])"
      ]
     },
     "execution_count": 33,
     "metadata": {},
     "output_type": "execute_result"
    }
   ],
   "source": [
    "y_score3=dtree.predict_proba(Y_test)[:,1]\n",
    "y_score3"
   ]
  },
  {
   "cell_type": "code",
   "execution_count": 41,
   "metadata": {},
   "outputs": [
    {
     "data": {
      "text/plain": [
       "0.6338769223047469"
      ]
     },
     "execution_count": 41,
     "metadata": {},
     "output_type": "execute_result"
    }
   ],
   "source": [
    "roc_score3 = roc_auc_score(X_test, y_score3)\n",
    "roc_score3 "
   ]
  },
  {
   "cell_type": "code",
   "execution_count": 34,
   "metadata": {},
   "outputs": [
    {
     "name": "stderr",
     "output_type": "stream",
     "text": [
      "<ipython-input-34-d46b0683fcc0>:5: DataConversionWarning: A column-vector y was passed when a 1d array was expected. Please change the shape of y to (n_samples,), for example using ravel().\n",
      "  rfm.fit(Y_train, X_train)\n"
     ]
    },
    {
     "data": {
      "text/plain": [
       "72.75770852277425"
      ]
     },
     "execution_count": 34,
     "metadata": {},
     "output_type": "execute_result"
    }
   ],
   "source": [
    "#RandomForestClassifier\n",
    "\n",
    "from sklearn.ensemble import RandomForestClassifier\n",
    "rfm = RandomForestClassifier()\n",
    "rfm.fit(Y_train, X_train)\n",
    "predicted_X = rfm.predict(Y_test)\n",
    "acc_rfm = accuracy_score(X_test, predicted_X)*100\n",
    "acc_rfm"
   ]
  },
  {
   "cell_type": "code",
   "execution_count": 65,
   "metadata": {},
   "outputs": [
    {
     "data": {
      "text/plain": [
       "array([0.58, 0.21, 0.57, ..., 0.82, 0.48, 0.24])"
      ]
     },
     "execution_count": 65,
     "metadata": {},
     "output_type": "execute_result"
    }
   ],
   "source": [
    "y_score4=rfm.predict_proba(Y_test)[:,1]\n",
    "y_score4"
   ]
  },
  {
   "cell_type": "code",
   "execution_count": 42,
   "metadata": {},
   "outputs": [
    {
     "data": {
      "text/plain": [
       "0.7787901400561923"
      ]
     },
     "execution_count": 42,
     "metadata": {},
     "output_type": "execute_result"
    }
   ],
   "source": [
    "roc_score4 = roc_auc_score(X_test, y_score4)\n",
    "roc_score4 "
   ]
  },
  {
   "cell_type": "code",
   "execution_count": 36,
   "metadata": {},
   "outputs": [
    {
     "data": {
      "text/plain": [
       "Text(0, 0.5, 'Classifier Names')"
      ]
     },
     "execution_count": 36,
     "metadata": {},
     "output_type": "execute_result"
    },
    {
     "data": {
      "image/png": "[encoded data removed]",
      "text/plain": [
       "<Figure size 432x288 with 1 Axes>"
      ]
     },
     "metadata": {
      "needs_background": "light"
     },
     "output_type": "display_data"
    }
   ],
   "source": [
    "classifier_names = np.array(['Naïve Bayes','Logistic Regression', 'Decision Tree', 'Random Forest'])\n",
    "\n",
    "classifier_scores = np.array([acc, acc_lr,acc_dtree, acc_rfm]).round(2)\n",
    "\n",
    "# Plotting the bar graph of accuracy for every classifier\n",
    "\n",
    "fig, ax = plt.subplots()    \n",
    "width = 0.9 # the width of the bars \n",
    "loc = np.arange(len(classifier_scores))  # the x locations for the groups\n",
    "for i, v in enumerate(classifier_scores):\n",
    "    ax.text(v + 3, i - .15, str(v), color='black', fontweight='bold')\n",
    "ax.barh(loc, classifier_scores, width, color=\"tab:red\")\n",
    "ax.set_yticks(loc+width/2)\n",
    "ax.set_yticklabels(classifier_names, minor=False)\n",
    "plt.title('Accuracy of various classifiers')\n",
    "plt.xlabel('Classifier Scores')\n",
    "plt.ylabel('Classifier Names')  "
   ]
  },
  {
   "cell_type": "code",
   "execution_count": 55,
   "metadata": {},
   "outputs": [
    {
     "data": {
      "text/plain": [
       "Text(0, 0.5, 'Classifier Names')"
      ]
     },
     "execution_count": 55,
     "metadata": {},
     "output_type": "execute_result"
    },
    {
     "data": {
      "image/png": "[encoded data removed]",
      "text/plain": [
       "<Figure size 432x288 with 1 Axes>"
      ]
     },
     "metadata": {
      "needs_background": "light"
     },
     "output_type": "display_data"
    }
   ],
   "source": [
    "classifier_names = np.array(['Naïve Bayes','Logistic Regression', 'Decision Tree', 'Random Forest'])\n",
    "\n",
    "classifier_scores = np.array([roc_score ,roc_score2,roc_score3,roc_score4]).round(2)\n",
    "\n",
    "# Plotting the bar graph of roc_auc for every classifier\n",
    "\n",
    "fig, ax = plt.subplots()    \n",
    "width = 0.9 # the width of the bars \n",
    "loc = np.arange(len(classifier_scores))  # the x locations for the groups\n",
    "for i, v in enumerate(classifier_scores):\n",
    "    ax.text(v + 0.1, i - .01, str(v), color='blue', fontweight='bold')\n",
    "ax.barh(loc, classifier_scores, width, color=\"tab:pink\")\n",
    "ax.set_yticks(loc+width/2)\n",
    "ax.set_yticklabels(classifier_names, minor=False)\n",
    "plt.title('ROC_AUC_SCORE of various classifiers')\n",
    "plt.xlabel('Classifier Scores')\n",
    "plt.ylabel('Classifier Names')  "
   ]
  },
  {
   "cell_type": "code",
   "execution_count": 37,
   "metadata": {},
   "outputs": [],
   "source": [
    "from sklearn.metrics import roc_curve\n",
    "fpr1,tpr1,thre1=roc_curve(X_test,y_score1)\n",
    "fpr2,tpr2,thre2=roc_curve(X_test,y_score2)\n",
    "fpr3,tpr3,thre3=roc_curve(X_test,y_score3)\n",
    "fpr4,tpr4,thre4=roc_curve(X_test,y_score4)"
   ]
  },
  {
   "cell_type": "code",
   "execution_count": 68,
   "metadata": {},
   "outputs": [],
   "source": [
    "#print(fpr1,tpr1,thre1)"
   ]
  },
  {
   "cell_type": "code",
   "execution_count": 69,
   "metadata": {},
   "outputs": [],
   "source": [
    "#print(fpr2,tpr2,thre2)"
   ]
  },
  {
   "cell_type": "code",
   "execution_count": 70,
   "metadata": {},
   "outputs": [],
   "source": [
    "#print(fpr3,tpr3,thre3)"
   ]
  },
  {
   "cell_type": "code",
   "execution_count": 71,
   "metadata": {},
   "outputs": [],
   "source": [
    "#print(fpr4,tpr4,thre4)"
   ]
  },
  {
   "cell_type": "code",
   "execution_count": 67,
   "metadata": {},
   "outputs": [],
   "source": [
    "predictions =rfm.predict(x_test)\n",
    "sample_submission = pd.read_csv('C:/Users/Lucky Kulshrestha/Downloads/sample_submission_eyYijxG.csv')\n",
    "sample_submission['Is_Lead'] = predictions\n",
    "sample_submission.to_csv(f'submission.csv',index=False)"
   ]
  },
  {
   "cell_type": "code",
   "execution_count": null,
   "metadata": {},
   "outputs": [],
   "source": []
  }
 ],
 "metadata": {
  "kernelspec": {
   "display_name": "Python 3",
   "language": "python",
   "name": "python3"
  },
  "language_info": {
   "codemirror_mode": {
    "name": "ipython",
    "version": 3
   },
   "file_extension": ".py",
   "mimetype": "text/x-python",
   "name": "python",
   "nbconvert_exporter": "python",
   "pygments_lexer": "ipython3",
   "version": "3.8.5"
  }
 },
 "nbformat": 4,
 "nbformat_minor": 4
}
